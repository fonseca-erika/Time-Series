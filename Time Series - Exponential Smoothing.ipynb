{
 "cells": [
  {
   "cell_type": "markdown",
   "metadata": {},
   "source": [
    "<h1><div class=\"alert alert-block alert-info\">\n",
    "Time Series - Exponential Smoothing\n",
    "</div></h1>\n",
    "\n",
    "Exponential Smoothing is a collection of models (constant, linear, seasonal. . . ) in which the importance of the observed data decreases with its age, used to forecast the <font color='blue'> <b>deterministic</b></font> components of a time series (trend and seasonality).\n",
    "\n",
    "<h2>Simple Exponential Smoothing (SES)</h2>\n",
    "\n",
    "The result of this forecast is a <font color='orange'><b>constant</b></font> that is applied to all future predictions.\n",
    "\n",
    "$\\hat x_{n,h}= \\alpha \\sum_{j=0}^{n-1}(1-\\alpha)^jx_{n-j}$\n",
    "\n",
    "In this forecasting method the higher the tuning parameter $\\alpha$ the smaller is the importance of the past observations."
   ]
  },
  {
   "cell_type": "code",
   "execution_count": 15,
   "metadata": {},
   "outputs": [],
   "source": [
    "library(forecast)"
   ]
  },
  {
   "cell_type": "code",
   "execution_count": 24,
   "metadata": {},
   "outputs": [],
   "source": [
    "data=read.csv(file=\"http://eric.univ-lyon2.fr/~jjacques/Download/DataSet/varicelle.csv\")\n",
    "vari_train<-ts(data$x[1:480],start=c(1931,1),end=c(1970,12),freq=12)\n",
    "vari_test<-ts(data$x[481:498],start=c(1971,1),end=c(1972,6),freq=12)"
   ]
  },
  {
   "cell_type": "code",
   "execution_count": 25,
   "metadata": {},
   "outputs": [
    {
     "name": "stderr",
     "output_type": "stream",
     "text": [
      "Scale for 'x' is already present. Adding another scale for 'x', which will\n",
      "replace the existing scale.\n",
      "\n",
      "Warning message:\n",
      "\"Removed 288 rows containing missing values (geom_path).\"\n"
     ]
    },
    {
     "data": {
      "text/html": [
       "<table>\n",
       "<caption>A matrix: 1 × 7 of type dbl</caption>\n",
       "<thead>\n",
       "\t<tr><th></th><th scope=col>ME</th><th scope=col>RMSE</th><th scope=col>MAE</th><th scope=col>MPE</th><th scope=col>MAPE</th><th scope=col>MASE</th><th scope=col>ACF1</th></tr>\n",
       "</thead>\n",
       "<tbody>\n",
       "\t<tr><th scope=row>Training set</th><td>-1.6</td><td>338.15</td><td>251.29</td><td>-24.53</td><td>61</td><td>1.04</td><td>0.51</td></tr>\n",
       "</tbody>\n",
       "</table>\n"
      ],
      "text/latex": [
       "A matrix: 1 × 7 of type dbl\n",
       "\\begin{tabular}{r|lllllll}\n",
       "  & ME & RMSE & MAE & MPE & MAPE & MASE & ACF1\\\\\n",
       "\\hline\n",
       "\tTraining set & -1.6 & 338.15 & 251.29 & -24.53 & 61 & 1.04 & 0.51\\\\\n",
       "\\end{tabular}\n"
      ],
      "text/markdown": [
       "\n",
       "A matrix: 1 × 7 of type dbl\n",
       "\n",
       "| <!--/--> | ME | RMSE | MAE | MPE | MAPE | MASE | ACF1 |\n",
       "|---|---|---|---|---|---|---|---|\n",
       "| Training set | -1.6 | 338.15 | 251.29 | -24.53 | 61 | 1.04 | 0.51 |\n",
       "\n"
      ],
      "text/plain": [
       "             ME   RMSE   MAE    MPE    MAPE MASE ACF1\n",
       "Training set -1.6 338.15 251.29 -24.53 61   1.04 0.51"
      ]
     },
     "metadata": {},
     "output_type": "display_data"
    },
    {
     "data": {
      "image/png": "[encoded data removed]",
      "text/plain": [
       "plot without title"
      ]
     },
     "metadata": {
      "image/png": {
       "height": 420,
       "width": 420
      },
      "text/plain": {
       "height": 420,
       "width": 420
      }
     },
     "output_type": "display_data"
    }
   ],
   "source": [
    "SES=ses(vari_train,h=18)\n",
    "autoplot(SES, xlim=c(1955,1973))\n",
    "round(accuracy(SES),2)"
   ]
  },
  {
   "cell_type": "markdown",
   "metadata": {},
   "source": [
    "<h2>The Holt-Winters seasonal</h2>\n",
    "\n",
    "The Holt-Winters seasonal methodcomprises the forecast equation and three smoothing equations — one for the level $ℓ_t$, one for the trend $b_t$, and one for the seasonal component $s_t$, with corresponding smoothing parameters α, β and γ.\n",
    "\n",
    "Source: https://otexts.com/fpp2/holt-winters.html"
   ]
  },
  {
   "cell_type": "markdown",
   "metadata": {},
   "source": [
    "<h2>Non seasonal Holt-Winters smoothing</h2>\n",
    "\n",
    "Forecasting using a linear trend: $\\hat x_{n,h} = \\hat a_1 + \\hat a_2h$\n",
    "\n",
    "This model has two smoothing constants (α, β) acting on a1 and a2."
   ]
  },
  {
   "cell_type": "code",
   "execution_count": 43,
   "metadata": {},
   "outputs": [
    {
     "data": {
      "text/html": [
       "<table>\n",
       "<caption>A matrix: 1 × 7 of type dbl</caption>\n",
       "<thead>\n",
       "\t<tr><th></th><th scope=col>ME</th><th scope=col>RMSE</th><th scope=col>MAE</th><th scope=col>MPE</th><th scope=col>MAPE</th><th scope=col>MASE</th><th scope=col>ACF1</th></tr>\n",
       "</thead>\n",
       "<tbody>\n",
       "\t<tr><th scope=row>Training set</th><td>0.22</td><td>330.42</td><td>259.65</td><td>54.15</td><td>89.34</td><td>1.08</td><td>0.01</td></tr>\n",
       "</tbody>\n",
       "</table>\n"
      ],
      "text/latex": [
       "A matrix: 1 × 7 of type dbl\n",
       "\\begin{tabular}{r|lllllll}\n",
       "  & ME & RMSE & MAE & MPE & MAPE & MASE & ACF1\\\\\n",
       "\\hline\n",
       "\tTraining set & 0.22 & 330.42 & 259.65 & 54.15 & 89.34 & 1.08 & 0.01\\\\\n",
       "\\end{tabular}\n"
      ],
      "text/markdown": [
       "\n",
       "A matrix: 1 × 7 of type dbl\n",
       "\n",
       "| <!--/--> | ME | RMSE | MAE | MPE | MAPE | MASE | ACF1 |\n",
       "|---|---|---|---|---|---|---|---|\n",
       "| Training set | 0.22 | 330.42 | 259.65 | 54.15 | 89.34 | 1.08 | 0.01 |\n",
       "\n"
      ],
      "text/plain": [
       "             ME   RMSE   MAE    MPE   MAPE  MASE ACF1\n",
       "Training set 0.22 330.42 259.65 54.15 89.34 1.08 0.01"
      ]
     },
     "metadata": {},
     "output_type": "display_data"
    },
    {
     "data": {
      "image/png": "[encoded data removed]",
      "text/plain": [
       "plot without title"
      ]
     },
     "metadata": {
      "image/png": {
       "height": 420,
       "width": 420
      },
      "text/plain": {
       "height": 420,
       "width": 420
      }
     },
     "output_type": "display_data"
    }
   ],
   "source": [
    "NON_SEASONAL_HOLT=holt(vari_train,h=18)\n",
    "round(accuracy(NON_SEASONAL_HOLT),2)\n",
    "autoplot(vari_train) + autolayer(NON_SEASONAL_HOLT,series='fitted')"
   ]
  },
  {
   "cell_type": "markdown",
   "metadata": {},
   "source": [
    "<h2>Damped non seasonal Holt-Winters smoothing</h2>\n",
    "\n",
    "$\\hat x_{n,h} = \\hat a_1 + \\hat a_2(\\phi + \\phi^2 + ...+ \\phi^h)$\n",
    "\n",
    "with $ 0 < \\phi < 1 $ dampens the trend so that it approaches a constant\n",
    "in the future"
   ]
  },
  {
   "cell_type": "code",
   "execution_count": 44,
   "metadata": {},
   "outputs": [
    {
     "data": {
      "text/html": [
       "<table>\n",
       "<caption>A matrix: 1 × 7 of type dbl</caption>\n",
       "<thead>\n",
       "\t<tr><th></th><th scope=col>ME</th><th scope=col>RMSE</th><th scope=col>MAE</th><th scope=col>MPE</th><th scope=col>MAPE</th><th scope=col>MASE</th><th scope=col>ACF1</th></tr>\n",
       "</thead>\n",
       "<tbody>\n",
       "\t<tr><th scope=row>Training set</th><td>0.22</td><td>330.42</td><td>259.65</td><td>54.15</td><td>89.34</td><td>1.08</td><td>0.01</td></tr>\n",
       "</tbody>\n",
       "</table>\n"
      ],
      "text/latex": [
       "A matrix: 1 × 7 of type dbl\n",
       "\\begin{tabular}{r|lllllll}\n",
       "  & ME & RMSE & MAE & MPE & MAPE & MASE & ACF1\\\\\n",
       "\\hline\n",
       "\tTraining set & 0.22 & 330.42 & 259.65 & 54.15 & 89.34 & 1.08 & 0.01\\\\\n",
       "\\end{tabular}\n"
      ],
      "text/markdown": [
       "\n",
       "A matrix: 1 × 7 of type dbl\n",
       "\n",
       "| <!--/--> | ME | RMSE | MAE | MPE | MAPE | MASE | ACF1 |\n",
       "|---|---|---|---|---|---|---|---|\n",
       "| Training set | 0.22 | 330.42 | 259.65 | 54.15 | 89.34 | 1.08 | 0.01 |\n",
       "\n"
      ],
      "text/plain": [
       "             ME   RMSE   MAE    MPE   MAPE  MASE ACF1\n",
       "Training set 0.22 330.42 259.65 54.15 89.34 1.08 0.01"
      ]
     },
     "metadata": {},
     "output_type": "display_data"
    },
    {
     "name": "stderr",
     "output_type": "stream",
     "text": [
      "Warning message:\n",
      "\"Ignoring unknown parameters: xlim\"\n",
      "Scale for 'x' is already present. Adding another scale for 'x', which will\n",
      "replace the existing scale.\n",
      "\n"
     ]
    },
    {
     "data": {
      "image/png": "[encoded data removed]",
      "text/plain": [
       "plot without title"
      ]
     },
     "metadata": {
      "image/png": {
       "height": 420,
       "width": 420
      },
      "text/plain": {
       "height": 420,
       "width": 420
      }
     },
     "output_type": "display_data"
    }
   ],
   "source": [
    "HOLT_DAMPED = holt(vari_train,damped=TRUE,phi=0.9,h=18)\n",
    "round(accuracy(HOLT),2)\n",
    "autoplot(vari_train) +\n",
    "autolayer(HOLT_DAMPED,series='Damped HW')"
   ]
  },
  {
   "cell_type": "code",
   "execution_count": 36,
   "metadata": {},
   "outputs": [
    {
     "data": {
      "text/html": [
       "<table>\n",
       "<caption>A data.frame: 3 × 2</caption>\n",
       "<thead>\n",
       "\t<tr><th scope=col>model</th><th scope=col>RSME</th></tr>\n",
       "\t<tr><th scope=col>&lt;fct&gt;</th><th scope=col>&lt;dbl&gt;</th></tr>\n",
       "</thead>\n",
       "<tbody>\n",
       "\t<tr><td>Simple Exponential Smoothing    </td><td>  662562</td></tr>\n",
       "\t<tr><td>Non seasonal Holt-Winters       </td><td>11191722</td></tr>\n",
       "\t<tr><td>Damped non seasonal Holt-Winters</td><td> 1877474</td></tr>\n",
       "</tbody>\n",
       "</table>\n"
      ],
      "text/latex": [
       "A data.frame: 3 × 2\n",
       "\\begin{tabular}{ll}\n",
       " model & RSME\\\\\n",
       " <fct> & <dbl>\\\\\n",
       "\\hline\n",
       "\t Simple Exponential Smoothing     &   662562\\\\\n",
       "\t Non seasonal Holt-Winters        & 11191722\\\\\n",
       "\t Damped non seasonal Holt-Winters &  1877474\\\\\n",
       "\\end{tabular}\n"
      ],
      "text/markdown": [
       "\n",
       "A data.frame: 3 × 2\n",
       "\n",
       "| model &lt;fct&gt; | RSME &lt;dbl&gt; |\n",
       "|---|---|\n",
       "| Simple Exponential Smoothing     |   662562 |\n",
       "| Non seasonal Holt-Winters        | 11191722 |\n",
       "| Damped non seasonal Holt-Winters |  1877474 |\n",
       "\n"
      ],
      "text/plain": [
       "  model                            RSME    \n",
       "1 Simple Exponential Smoothing       662562\n",
       "2 Non seasonal Holt-Winters        11191722\n",
       "3 Damped non seasonal Holt-Winters  1877474"
      ]
     },
     "metadata": {},
     "output_type": "display_data"
    }
   ],
   "source": [
    "e1 <- tsCV(data, ses, h=18)\n",
    "e2 <- tsCV(data, holt, h=18)\n",
    "e3 <- tsCV(data, holt, damped=TRUE, h=18)\n",
    "data.frame( model = c('Simple Exponential Smoothing','Non seasonal Holt-Winters','Damped non seasonal Holt-Winters'), \n",
    "RSME = c(mean(e1^2, na.rm=TRUE),mean(e2^2, na.rm=TRUE),mean(e3^2, na.rm=TRUE)))"
   ]
  },
  {
   "cell_type": "markdown",
   "metadata": {},
   "source": [
    "<h2>Additive seasonal Holt-Winters</h2>\n",
    "\n",
    "Forecasting with a linear trend plus an additive seasonal pattern.\n",
    "\n",
    "$\\hat x_{n,h} = \\hat a_1 + \\hat a_2h + \\hat s_{n+h-T}$ for $1 \\leq h \\leq T$\n",
    "\n",
    "$\\hat x_{n,h} = \\hat a_1 + \\hat a_2h + \\hat s_{n+h-2T}$ for $T+1 \\leq h \\leq 2T$"
   ]
  },
  {
   "cell_type": "code",
   "execution_count": 51,
   "metadata": {},
   "outputs": [
    {
     "data": {
      "text/html": [
       "<table>\n",
       "<caption>A matrix: 1 × 7 of type dbl</caption>\n",
       "<thead>\n",
       "\t<tr><th></th><th scope=col>ME</th><th scope=col>RMSE</th><th scope=col>MAE</th><th scope=col>MPE</th><th scope=col>MAPE</th><th scope=col>MASE</th><th scope=col>ACF1</th></tr>\n",
       "</thead>\n",
       "<tbody>\n",
       "\t<tr><th scope=row>Training set</th><td>-7.54</td><td>209.45</td><td>161.3</td><td>2.11</td><td>43.07</td><td>0.67</td><td>0.36</td></tr>\n",
       "</tbody>\n",
       "</table>\n"
      ],
      "text/latex": [
       "A matrix: 1 × 7 of type dbl\n",
       "\\begin{tabular}{r|lllllll}\n",
       "  & ME & RMSE & MAE & MPE & MAPE & MASE & ACF1\\\\\n",
       "\\hline\n",
       "\tTraining set & -7.54 & 209.45 & 161.3 & 2.11 & 43.07 & 0.67 & 0.36\\\\\n",
       "\\end{tabular}\n"
      ],
      "text/markdown": [
       "\n",
       "A matrix: 1 × 7 of type dbl\n",
       "\n",
       "| <!--/--> | ME | RMSE | MAE | MPE | MAPE | MASE | ACF1 |\n",
       "|---|---|---|---|---|---|---|---|\n",
       "| Training set | -7.54 | 209.45 | 161.3 | 2.11 | 43.07 | 0.67 | 0.36 |\n",
       "\n"
      ],
      "text/plain": [
       "             ME    RMSE   MAE   MPE  MAPE  MASE ACF1\n",
       "Training set -7.54 209.45 161.3 2.11 43.07 0.67 0.36"
      ]
     },
     "metadata": {},
     "output_type": "display_data"
    },
    {
     "data": {
      "image/png": "[encoded data removed]",
      "text/plain": [
       "plot without title"
      ]
     },
     "metadata": {
      "image/png": {
       "height": 420,
       "width": 420
      },
      "text/plain": {
       "height": 420,
       "width": 420
      }
     },
     "output_type": "display_data"
    }
   ],
   "source": [
    "ADDITIVE_HOLT=hw(vari_train,seasonal='additive',h=18)\n",
    "autoplot(vari_train) + autolayer(ADDITIVE_HOLT,series='HW add.', col =4)\n",
    "round(accuracy(ADDITIVE_HOLT),2)"
   ]
  },
  {
   "cell_type": "markdown",
   "metadata": {},
   "source": [
    "<h2>Multiplicative seasonal Holt-Winters</h2>\n",
    "\n",
    "Forecasting with a linear trend time a multiplicative seasonal pattern.\n",
    "\n",
    "$\\hat x_{n,h} = [\\hat a_1 + \\hat a_2h]\\hat s_{n+h-T}$ for $1 \\leq h \\leq T$\n",
    "\n",
    "$\\hat x_{n,h} = [\\hat a_1 + \\hat a_2h]\\hat s_{n+h-2T}$ for $T+1 \\leq h \\leq 2T$"
   ]
  },
  {
   "cell_type": "code",
   "execution_count": 59,
   "metadata": {},
   "outputs": [
    {
     "data": {
      "text/html": [
       "<table>\n",
       "<caption>A matrix: 1 × 7 of type dbl</caption>\n",
       "<thead>\n",
       "\t<tr><th></th><th scope=col>ME</th><th scope=col>RMSE</th><th scope=col>MAE</th><th scope=col>MPE</th><th scope=col>MAPE</th><th scope=col>MASE</th><th scope=col>ACF1</th></tr>\n",
       "</thead>\n",
       "<tbody>\n",
       "\t<tr><th scope=row>Training set</th><td>-1.9</td><td>166.88</td><td>116.97</td><td>-8.23</td><td>23.37</td><td>0.49</td><td>0.18</td></tr>\n",
       "</tbody>\n",
       "</table>\n"
      ],
      "text/latex": [
       "A matrix: 1 × 7 of type dbl\n",
       "\\begin{tabular}{r|lllllll}\n",
       "  & ME & RMSE & MAE & MPE & MAPE & MASE & ACF1\\\\\n",
       "\\hline\n",
       "\tTraining set & -1.9 & 166.88 & 116.97 & -8.23 & 23.37 & 0.49 & 0.18\\\\\n",
       "\\end{tabular}\n"
      ],
      "text/markdown": [
       "\n",
       "A matrix: 1 × 7 of type dbl\n",
       "\n",
       "| <!--/--> | ME | RMSE | MAE | MPE | MAPE | MASE | ACF1 |\n",
       "|---|---|---|---|---|---|---|---|\n",
       "| Training set | -1.9 | 166.88 | 116.97 | -8.23 | 23.37 | 0.49 | 0.18 |\n",
       "\n"
      ],
      "text/plain": [
       "             ME   RMSE   MAE    MPE   MAPE  MASE ACF1\n",
       "Training set -1.9 166.88 116.97 -8.23 23.37 0.49 0.18"
      ]
     },
     "metadata": {},
     "output_type": "display_data"
    },
    {
     "data": {
      "image/png": "[encoded data removed]",
      "text/plain": [
       "plot without title"
      ]
     },
     "metadata": {
      "image/png": {
       "height": 420,
       "width": 420
      },
      "text/plain": {
       "height": 420,
       "width": 420
      }
     },
     "output_type": "display_data"
    }
   ],
   "source": [
    "MULT_HOLT=hw(vari_train,seasonal='multiplicative',h=18)\n",
    "autoplot(vari_train) + autolayer(MULT_HOLT,series='HW add.', col =2) \n",
    "round(accuracy(MULT_HOLT),2)"
   ]
  },
  {
   "cell_type": "code",
   "execution_count": 60,
   "metadata": {},
   "outputs": [
    {
     "data": {
      "text/html": [
       "<table>\n",
       "<caption>A data.frame: 2 × 2</caption>\n",
       "<thead>\n",
       "\t<tr><th scope=col>model</th><th scope=col>RSME</th></tr>\n",
       "\t<tr><th scope=col>&lt;fct&gt;</th><th scope=col>&lt;dbl&gt;</th></tr>\n",
       "</thead>\n",
       "<tbody>\n",
       "\t<tr><td>Additive seasonal Holt-Winters      </td><td>238.2674</td></tr>\n",
       "\t<tr><td>Multiplicative seasonal Holt-Winters</td><td>214.7901</td></tr>\n",
       "</tbody>\n",
       "</table>\n"
      ],
      "text/latex": [
       "A data.frame: 2 × 2\n",
       "\\begin{tabular}{ll}\n",
       " model & RSME\\\\\n",
       " <fct> & <dbl>\\\\\n",
       "\\hline\n",
       "\t Additive seasonal Holt-Winters       & 238.2674\\\\\n",
       "\t Multiplicative seasonal Holt-Winters & 214.7901\\\\\n",
       "\\end{tabular}\n"
      ],
      "text/markdown": [
       "\n",
       "A data.frame: 2 × 2\n",
       "\n",
       "| model &lt;fct&gt; | RSME &lt;dbl&gt; |\n",
       "|---|---|\n",
       "| Additive seasonal Holt-Winters       | 238.2674 |\n",
       "| Multiplicative seasonal Holt-Winters | 214.7901 |\n",
       "\n"
      ],
      "text/plain": [
       "  model                                RSME    \n",
       "1 Additive seasonal Holt-Winters       238.2674\n",
       "2 Multiplicative seasonal Holt-Winters 214.7901"
      ]
     },
     "metadata": {},
     "output_type": "display_data"
    }
   ],
   "source": [
    "data.frame( model = c('Additive seasonal Holt-Winters','Multiplicative seasonal Holt-Winters'), \n",
    "RSME = c(sqrt(mean((ADDITIVE_HOLT$mean-vari_test)^2)),sqrt(mean((MULT_HOLT$mean-vari_test)^2))))"
   ]
  },
  {
   "cell_type": "code",
   "execution_count": 64,
   "metadata": {},
   "outputs": [
    {
     "data": {
      "text/html": [
       "<table>\n",
       "<caption>A matrix: 1 × 7 of type dbl</caption>\n",
       "<thead>\n",
       "\t<tr><th></th><th scope=col>ME</th><th scope=col>RMSE</th><th scope=col>MAE</th><th scope=col>MPE</th><th scope=col>MAPE</th><th scope=col>MASE</th><th scope=col>ACF1</th></tr>\n",
       "</thead>\n",
       "<tbody>\n",
       "\t<tr><th scope=row>Training set</th><td>-1.51</td><td>215.07</td><td>166.98</td><td>3.17</td><td>46</td><td>0.69</td><td>0.45</td></tr>\n",
       "</tbody>\n",
       "</table>\n"
      ],
      "text/latex": [
       "A matrix: 1 × 7 of type dbl\n",
       "\\begin{tabular}{r|lllllll}\n",
       "  & ME & RMSE & MAE & MPE & MAPE & MASE & ACF1\\\\\n",
       "\\hline\n",
       "\tTraining set & -1.51 & 215.07 & 166.98 & 3.17 & 46 & 0.69 & 0.45\\\\\n",
       "\\end{tabular}\n"
      ],
      "text/markdown": [
       "\n",
       "A matrix: 1 × 7 of type dbl\n",
       "\n",
       "| <!--/--> | ME | RMSE | MAE | MPE | MAPE | MASE | ACF1 |\n",
       "|---|---|---|---|---|---|---|---|\n",
       "| Training set | -1.51 | 215.07 | 166.98 | 3.17 | 46 | 0.69 | 0.45 |\n",
       "\n"
      ],
      "text/plain": [
       "             ME    RMSE   MAE    MPE  MAPE MASE ACF1\n",
       "Training set -1.51 215.07 166.98 3.17 46   0.69 0.45"
      ]
     },
     "metadata": {},
     "output_type": "display_data"
    },
    {
     "data": {
      "image/png": "[encoded data removed]",
      "text/plain": [
       "plot without title"
      ]
     },
     "metadata": {
      "image/png": {
       "height": 420,
       "width": 420
      },
      "text/plain": {
       "height": 420,
       "width": 420
      }
     },
     "output_type": "display_data"
    }
   ],
   "source": [
    "ADDITIVE_HOLT_DAMPED=hw(vari_train,seasonal='additive',h=18, damped = TRUE)\n",
    "autoplot(vari_train) + autolayer(ADDITIVE_HOLT_DAMPED,series='HW add.', col =4)\n",
    "round(accuracy(ADDITIVE_HOLT_DAMPED),2)"
   ]
  },
  {
   "cell_type": "code",
   "execution_count": 65,
   "metadata": {},
   "outputs": [
    {
     "data": {
      "text/html": [
       "<table>\n",
       "<caption>A matrix: 1 × 7 of type dbl</caption>\n",
       "<thead>\n",
       "\t<tr><th></th><th scope=col>ME</th><th scope=col>RMSE</th><th scope=col>MAE</th><th scope=col>MPE</th><th scope=col>MAPE</th><th scope=col>MASE</th><th scope=col>ACF1</th></tr>\n",
       "</thead>\n",
       "<tbody>\n",
       "\t<tr><th scope=row>Training set</th><td>13.19</td><td>158.75</td><td>112.03</td><td>-4.18</td><td>21.28</td><td>0.47</td><td>0.09</td></tr>\n",
       "</tbody>\n",
       "</table>\n"
      ],
      "text/latex": [
       "A matrix: 1 × 7 of type dbl\n",
       "\\begin{tabular}{r|lllllll}\n",
       "  & ME & RMSE & MAE & MPE & MAPE & MASE & ACF1\\\\\n",
       "\\hline\n",
       "\tTraining set & 13.19 & 158.75 & 112.03 & -4.18 & 21.28 & 0.47 & 0.09\\\\\n",
       "\\end{tabular}\n"
      ],
      "text/markdown": [
       "\n",
       "A matrix: 1 × 7 of type dbl\n",
       "\n",
       "| <!--/--> | ME | RMSE | MAE | MPE | MAPE | MASE | ACF1 |\n",
       "|---|---|---|---|---|---|---|---|\n",
       "| Training set | 13.19 | 158.75 | 112.03 | -4.18 | 21.28 | 0.47 | 0.09 |\n",
       "\n"
      ],
      "text/plain": [
       "             ME    RMSE   MAE    MPE   MAPE  MASE ACF1\n",
       "Training set 13.19 158.75 112.03 -4.18 21.28 0.47 0.09"
      ]
     },
     "metadata": {},
     "output_type": "display_data"
    },
    {
     "data": {
      "image/png": "[encoded data removed]",
      "text/plain": [
       "plot without title"
      ]
     },
     "metadata": {
      "image/png": {
       "height": 420,
       "width": 420
      },
      "text/plain": {
       "height": 420,
       "width": 420
      }
     },
     "output_type": "display_data"
    }
   ],
   "source": [
    "MULT_HOLT_DAMPED=hw(vari_train,seasonal='multiplicative',h=18, damped = TRUE)\n",
    "autoplot(vari_train) + autolayer(MULT_HOLT_DAMPED,series='HW add.', col =2) \n",
    "round(accuracy(MULT_HOLT_DAMPED),2)"
   ]
  },
  {
   "cell_type": "code",
   "execution_count": 66,
   "metadata": {},
   "outputs": [
    {
     "data": {
      "text/html": [
       "<table>\n",
       "<caption>A data.frame: 2 × 2</caption>\n",
       "<thead>\n",
       "\t<tr><th scope=col>model</th><th scope=col>RSME</th></tr>\n",
       "\t<tr><th scope=col>&lt;fct&gt;</th><th scope=col>&lt;dbl&gt;</th></tr>\n",
       "</thead>\n",
       "<tbody>\n",
       "\t<tr><td>Damped additive seasonal Holt-Winters      </td><td>279.7424</td></tr>\n",
       "\t<tr><td>Damped multiplicative seasonal Holt-Winters</td><td>375.6358</td></tr>\n",
       "</tbody>\n",
       "</table>\n"
      ],
      "text/latex": [
       "A data.frame: 2 × 2\n",
       "\\begin{tabular}{ll}\n",
       " model & RSME\\\\\n",
       " <fct> & <dbl>\\\\\n",
       "\\hline\n",
       "\t Damped additive seasonal Holt-Winters       & 279.7424\\\\\n",
       "\t Damped multiplicative seasonal Holt-Winters & 375.6358\\\\\n",
       "\\end{tabular}\n"
      ],
      "text/markdown": [
       "\n",
       "A data.frame: 2 × 2\n",
       "\n",
       "| model &lt;fct&gt; | RSME &lt;dbl&gt; |\n",
       "|---|---|\n",
       "| Damped additive seasonal Holt-Winters       | 279.7424 |\n",
       "| Damped multiplicative seasonal Holt-Winters | 375.6358 |\n",
       "\n"
      ],
      "text/plain": [
       "  model                                       RSME    \n",
       "1 Damped additive seasonal Holt-Winters       279.7424\n",
       "2 Damped multiplicative seasonal Holt-Winters 375.6358"
      ]
     },
     "metadata": {},
     "output_type": "display_data"
    }
   ],
   "source": [
    "data.frame( model = c('Damped additive seasonal Holt-Winters','Damped multiplicative seasonal Holt-Winters'), \n",
    "RSME = c(sqrt(mean((ADDITIVE_HOLT_DAMPED$mean-vari_test)^2)),sqrt(mean((MULT_HOLT_DAMPED$mean-vari_test)^2))))"
   ]
  }
 ],
 "metadata": {
  "kernelspec": {
   "display_name": "R",
   "language": "R",
   "name": "ir"
  },
  "language_info": {
   "codemirror_mode": "r",
   "file_extension": ".r",
   "mimetype": "text/x-r-source",
   "name": "R",
   "pygments_lexer": "r",
   "version": "3.6.2"
  }
 },
 "nbformat": 4,
 "nbformat_minor": 4
}
